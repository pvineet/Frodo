{
 "cells": [
  {
   "cell_type": "code",
   "execution_count": 57,
   "metadata": {},
   "outputs": [],
   "source": [
    "import flickrapi\n",
    "import urllib.request\n",
    "import datetime\n",
    "from os import mkdir\n",
    "\n",
    "api_key = u'2b16cd87ab30970d4615de64cc7513d9'\n",
    "api_secret = u'eed47a4955e774d8'\n",
    "flickr = flickrapi.FlickrAPI(api_key, api_secret, format='parsed-json')\n",
    "classes = ['airplane', 'car', 'bird', 'cat', 'flower', 'dog', 'person' , 'frog', 'ship', 'horse']\n",
    "size = {'75x75':'s','150x150':'q'}\n",
    "#base_path = '/Volumes/Seagate Slim Drive/Vineet/Flickr/'\n",
    "base_path = '/Users/Vineet/Documents/Courses/ELEN 297/Flickr/'\n",
    "timestamp = str(datetime.datetime.now()).replace(' ','-').split('.')[0]\n",
    "path = base_path+timestamp+'/'\n",
    "sets = {'train':100, 'validation':20, 'test':20}\n",
    "NUM_PHOTOS = (sum(sets.values()))"
   ]
  },
  {
   "cell_type": "code",
   "execution_count": 58,
   "metadata": {},
   "outputs": [],
   "source": [
    "def get_photo_urls(tag,num):\n",
    "    photos = flickr.photos.search(tags=tag,per_page='200')\n",
    "    urls = []\n",
    "    cnt = 0\n",
    "    print(str(len(photos['photos']['photo']))+\" photos of \"+tag)\n",
    "    #https://farm{farm-id}.staticflickr.com/{server-id}/{id}_{o-secret}_o.(jpg|gif|png)\n",
    "    for photo in (photos['photos']['photo']):\n",
    "        farm_id = str(photo['farm'])\n",
    "        server_id = str(photo['server'])\n",
    "        id = str(photo['id'])\n",
    "        secret = str(photo['secret'])\n",
    "        urls.append('https://farm'+farm_id+'.staticflickr.com/'+server_id+'/'+id+'_'+secret+'_q.jpg')\n",
    "        cnt += 1\n",
    "        if cnt >= num:\n",
    "            break\n",
    "    return urls"
   ]
  },
  {
   "cell_type": "code",
   "execution_count": 59,
   "metadata": {},
   "outputs": [],
   "source": [
    "def download_photos(urls, path, tag,):\n",
    "    cnt = 0         \n",
    "    for url in urls:\n",
    "        if cnt < sets['train']:\n",
    "            urllib.request.urlretrieve(url, path+'/train/'+tag+'/'+str(cnt)+'.jpg')\n",
    "        elif cnt < sets['validation']+sets['train']:\n",
    "            urllib.request.urlretrieve(url, path+'/validation/'+tag+'/'+str(cnt)+'.jpg')\n",
    "        else:\n",
    "            urllib.request.urlretrieve(url, path+'/test/'+tag+'/'+str(cnt)+'.jpg')\n",
    "        cnt+=1"
   ]
  },
  {
   "cell_type": "code",
   "execution_count": 60,
   "metadata": {},
   "outputs": [],
   "source": [
    "def make_dirs(sets, classes):\n",
    "    for dataset in sets.keys():\n",
    "        mkdir(path+'/'+dataset+'/')\n",
    "    for dataset in sets.keys():\n",
    "        for classtype in classes:\n",
    "            #print(path+'/'+dataset+'/'+classtype+'/')\n",
    "            mkdir(path+'/'+dataset+'/'+classtype+'/')"
   ]
  },
  {
   "cell_type": "code",
   "execution_count": 61,
   "metadata": {},
   "outputs": [
    {
     "name": "stdout",
     "output_type": "stream",
     "text": [
      "/Users/Vineet/Documents/Courses/ELEN 297/Flickr/2018-07-06-17:22:02//train/airplane/\n",
      "/Users/Vineet/Documents/Courses/ELEN 297/Flickr/2018-07-06-17:22:02//train/car/\n",
      "/Users/Vineet/Documents/Courses/ELEN 297/Flickr/2018-07-06-17:22:02//train/bird/\n",
      "/Users/Vineet/Documents/Courses/ELEN 297/Flickr/2018-07-06-17:22:02//train/cat/\n",
      "/Users/Vineet/Documents/Courses/ELEN 297/Flickr/2018-07-06-17:22:02//train/flower/\n",
      "/Users/Vineet/Documents/Courses/ELEN 297/Flickr/2018-07-06-17:22:02//train/dog/\n",
      "/Users/Vineet/Documents/Courses/ELEN 297/Flickr/2018-07-06-17:22:02//train/person/\n",
      "/Users/Vineet/Documents/Courses/ELEN 297/Flickr/2018-07-06-17:22:02//train/frog/\n",
      "/Users/Vineet/Documents/Courses/ELEN 297/Flickr/2018-07-06-17:22:02//train/ship/\n",
      "/Users/Vineet/Documents/Courses/ELEN 297/Flickr/2018-07-06-17:22:02//train/horse/\n",
      "/Users/Vineet/Documents/Courses/ELEN 297/Flickr/2018-07-06-17:22:02//validation/airplane/\n",
      "/Users/Vineet/Documents/Courses/ELEN 297/Flickr/2018-07-06-17:22:02//validation/car/\n",
      "/Users/Vineet/Documents/Courses/ELEN 297/Flickr/2018-07-06-17:22:02//validation/bird/\n",
      "/Users/Vineet/Documents/Courses/ELEN 297/Flickr/2018-07-06-17:22:02//validation/cat/\n",
      "/Users/Vineet/Documents/Courses/ELEN 297/Flickr/2018-07-06-17:22:02//validation/flower/\n",
      "/Users/Vineet/Documents/Courses/ELEN 297/Flickr/2018-07-06-17:22:02//validation/dog/\n",
      "/Users/Vineet/Documents/Courses/ELEN 297/Flickr/2018-07-06-17:22:02//validation/person/\n",
      "/Users/Vineet/Documents/Courses/ELEN 297/Flickr/2018-07-06-17:22:02//validation/frog/\n",
      "/Users/Vineet/Documents/Courses/ELEN 297/Flickr/2018-07-06-17:22:02//validation/ship/\n",
      "/Users/Vineet/Documents/Courses/ELEN 297/Flickr/2018-07-06-17:22:02//validation/horse/\n",
      "/Users/Vineet/Documents/Courses/ELEN 297/Flickr/2018-07-06-17:22:02//test/airplane/\n",
      "/Users/Vineet/Documents/Courses/ELEN 297/Flickr/2018-07-06-17:22:02//test/car/\n",
      "/Users/Vineet/Documents/Courses/ELEN 297/Flickr/2018-07-06-17:22:02//test/bird/\n",
      "/Users/Vineet/Documents/Courses/ELEN 297/Flickr/2018-07-06-17:22:02//test/cat/\n",
      "/Users/Vineet/Documents/Courses/ELEN 297/Flickr/2018-07-06-17:22:02//test/flower/\n",
      "/Users/Vineet/Documents/Courses/ELEN 297/Flickr/2018-07-06-17:22:02//test/dog/\n",
      "/Users/Vineet/Documents/Courses/ELEN 297/Flickr/2018-07-06-17:22:02//test/person/\n",
      "/Users/Vineet/Documents/Courses/ELEN 297/Flickr/2018-07-06-17:22:02//test/frog/\n",
      "/Users/Vineet/Documents/Courses/ELEN 297/Flickr/2018-07-06-17:22:02//test/ship/\n",
      "/Users/Vineet/Documents/Courses/ELEN 297/Flickr/2018-07-06-17:22:02//test/horse/\n",
      "200 photos of airplane\n",
      "200 photos of car\n",
      "200 photos of bird\n",
      "200 photos of cat\n",
      "200 photos of flower\n",
      "200 photos of dog\n",
      "200 photos of person\n",
      "200 photos of frog\n",
      "200 photos of ship\n",
      "200 photos of horse\n",
      "Done!\n"
     ]
    }
   ],
   "source": [
    "mkdir(path)\n",
    "make_dirs(sets, classes)\n",
    "for classtype in classes:\n",
    "    urls = get_photo_urls(classtype, NUM_PHOTOS)\n",
    "    download_photos(urls, path, classtype)\n",
    "print(\"Done!\")"
   ]
  },
  {
   "cell_type": "code",
   "execution_count": null,
   "metadata": {},
   "outputs": [],
   "source": []
  },
  {
   "cell_type": "code",
   "execution_count": null,
   "metadata": {},
   "outputs": [],
   "source": []
  }
 ],
 "metadata": {
  "kernelspec": {
   "display_name": "Python 3",
   "language": "python",
   "name": "python3"
  },
  "language_info": {
   "codemirror_mode": {
    "name": "ipython",
    "version": 3
   },
   "file_extension": ".py",
   "mimetype": "text/x-python",
   "name": "python",
   "nbconvert_exporter": "python",
   "pygments_lexer": "ipython3",
   "version": "3.6.5"
  }
 },
 "nbformat": 4,
 "nbformat_minor": 2
}
