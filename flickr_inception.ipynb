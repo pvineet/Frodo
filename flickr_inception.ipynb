{
 "cells": [
  {
   "cell_type": "code",
   "execution_count": 5,
   "metadata": {},
   "outputs": [],
   "source": [
    "from keras.applications.inception_v3 import InceptionV3\n",
    "from keras import layers\n",
    "from keras import models\n",
    "from keras.models import Sequential\n",
    "from keras.layers import Concatenate, Activation, BatchNormalization, Flatten\n",
    "from keras.layers import Input, Conv2D, MaxPooling2D, Input, AveragePooling2D, Dense\n",
    "from keras.models import Model\n",
    "from keras.datasets import cifar10\n",
    "from keras.utils import to_categorical\n",
    "from keras import optimizers \n",
    "from keras.preprocessing.image import ImageDataGenerator\n",
    "import time\n",
    "import matplotlib.pyplot as plt"
   ]
  },
  {
   "cell_type": "code",
   "execution_count": 6,
   "metadata": {},
   "outputs": [],
   "source": [
    "#set wifth and heigt of the input\n",
    "w = 32\n",
    "h = 32\n",
    "#set the number of epochs\n",
    "epochs = 10\n",
    "\n",
    "#open log file to dump progress data\n",
    "f = open('log_flickr_resnet_32x32.txt','w')"
   ]
  },
  {
   "cell_type": "code",
   "execution_count": 7,
   "metadata": {},
   "outputs": [],
   "source": [
    "def add_inception(input):\n",
    "    B1 = Conv2D(128,(1,1), padding='same')(L1)\n",
    "    B1 = Activation('relu')(B1)\n",
    "    B2 = Conv2D(16,(1,1), padding='same')(L1)\n",
    "    B2 = Activation('relu')(B2)\n",
    "    B2 = Conv2D(32,(3,3), padding='same')(L1)\n",
    "    B2 = Activation('relu')(B2)\n",
    "    B3 = Conv2D(96,(1,1), padding='same')(L1)\n",
    "    B3 = Activation('relu')(B2)\n",
    "    B3 = Conv2D(128,(3,3), padding='same')(L1)\n",
    "    B3 = Activation('relu')(B2)\n",
    "    #B4 = Conv2D(64,(1,1), padding='same')(L1)\n",
    "    #B4 = Activation('relu')(B4)\n",
    "    L2 = layers.concatenate([B1, B2, B3], axis=3)\n",
    "    return L2"
   ]
  },
  {
   "cell_type": "code",
   "execution_count": 8,
   "metadata": {},
   "outputs": [],
   "source": [
    "main_input = Input(shape=(32,32,3))\n",
    "L1 = Conv2D(32, (3, 3), padding='same')(main_input)\n",
    "L1 = BatchNormalization()(L1)\n",
    "L1 = Activation('relu')(L1)\n",
    "L1 = Conv2D(32, (3, 3), padding='same')(main_input)\n",
    "L1 = BatchNormalization()(L1)\n",
    "L1 = Activation('relu')(L1)\n",
    "L1 = MaxPooling2D(pool_size=(2,2))(L1)\n",
    "\n",
    "#B1 = MaxPooling2D(pool_size=(2,2))(L1)\n",
    "# Inception Module\n",
    "L1 = add_inception(L1)\n",
    "L1 = add_inception(L1)\n",
    "L1 = add_inception(L1)\n",
    "L1 = add_inception(L1)\n",
    "L1 = add_inception(L1)\n",
    "L1 = add_inception(L1)\n",
    "\n",
    "L2 = AveragePooling2D(pool_size=(2,2))(L1)\n",
    "L2 = Flatten()(L2)\n",
    "L2 = Dense(256)(L2)\n",
    "L2 = Dense(10,activation='softmax')(L2)"
   ]
  },
  {
   "cell_type": "code",
   "execution_count": 9,
   "metadata": {},
   "outputs": [
    {
     "name": "stdout",
     "output_type": "stream",
     "text": [
      "__________________________________________________________________________________________________\n",
      "Layer (type)                    Output Shape         Param #     Connected to                     \n",
      "==================================================================================================\n",
      "input_1 (InputLayer)            (None, 32, 32, 3)    0                                            \n",
      "__________________________________________________________________________________________________\n",
      "conv2d_2 (Conv2D)               (None, 32, 32, 32)   896         input_1[0][0]                    \n",
      "__________________________________________________________________________________________________\n",
      "batch_normalization_2 (BatchNor (None, 32, 32, 32)   128         conv2d_2[0][0]                   \n",
      "__________________________________________________________________________________________________\n",
      "activation_2 (Activation)       (None, 32, 32, 32)   0           batch_normalization_2[0][0]      \n",
      "__________________________________________________________________________________________________\n",
      "max_pooling2d_1 (MaxPooling2D)  (None, 16, 16, 32)   0           activation_2[0][0]               \n",
      "__________________________________________________________________________________________________\n",
      "conv2d_5 (Conv2D)               (None, 16, 16, 32)   9248        max_pooling2d_1[0][0]            \n",
      "__________________________________________________________________________________________________\n",
      "conv2d_3 (Conv2D)               (None, 16, 16, 128)  4224        max_pooling2d_1[0][0]            \n",
      "__________________________________________________________________________________________________\n",
      "activation_5 (Activation)       (None, 16, 16, 32)   0           conv2d_5[0][0]                   \n",
      "__________________________________________________________________________________________________\n",
      "activation_3 (Activation)       (None, 16, 16, 128)  0           conv2d_3[0][0]                   \n",
      "__________________________________________________________________________________________________\n",
      "activation_7 (Activation)       (None, 16, 16, 32)   0           activation_5[0][0]               \n",
      "__________________________________________________________________________________________________\n",
      "concatenate_1 (Concatenate)     (None, 16, 16, 192)  0           activation_3[0][0]               \n",
      "                                                                 activation_5[0][0]               \n",
      "                                                                 activation_7[0][0]               \n",
      "__________________________________________________________________________________________________\n",
      "conv2d_10 (Conv2D)              (None, 16, 16, 32)   55328       concatenate_1[0][0]              \n",
      "__________________________________________________________________________________________________\n",
      "conv2d_8 (Conv2D)               (None, 16, 16, 128)  24704       concatenate_1[0][0]              \n",
      "__________________________________________________________________________________________________\n",
      "activation_10 (Activation)      (None, 16, 16, 32)   0           conv2d_10[0][0]                  \n",
      "__________________________________________________________________________________________________\n",
      "activation_8 (Activation)       (None, 16, 16, 128)  0           conv2d_8[0][0]                   \n",
      "__________________________________________________________________________________________________\n",
      "activation_12 (Activation)      (None, 16, 16, 32)   0           activation_10[0][0]              \n",
      "__________________________________________________________________________________________________\n",
      "concatenate_2 (Concatenate)     (None, 16, 16, 192)  0           activation_8[0][0]               \n",
      "                                                                 activation_10[0][0]              \n",
      "                                                                 activation_12[0][0]              \n",
      "__________________________________________________________________________________________________\n",
      "conv2d_15 (Conv2D)              (None, 16, 16, 32)   55328       concatenate_2[0][0]              \n",
      "__________________________________________________________________________________________________\n",
      "conv2d_13 (Conv2D)              (None, 16, 16, 128)  24704       concatenate_2[0][0]              \n",
      "__________________________________________________________________________________________________\n",
      "activation_15 (Activation)      (None, 16, 16, 32)   0           conv2d_15[0][0]                  \n",
      "__________________________________________________________________________________________________\n",
      "activation_13 (Activation)      (None, 16, 16, 128)  0           conv2d_13[0][0]                  \n",
      "__________________________________________________________________________________________________\n",
      "activation_17 (Activation)      (None, 16, 16, 32)   0           activation_15[0][0]              \n",
      "__________________________________________________________________________________________________\n",
      "concatenate_3 (Concatenate)     (None, 16, 16, 192)  0           activation_13[0][0]              \n",
      "                                                                 activation_15[0][0]              \n",
      "                                                                 activation_17[0][0]              \n",
      "__________________________________________________________________________________________________\n",
      "conv2d_20 (Conv2D)              (None, 16, 16, 32)   55328       concatenate_3[0][0]              \n",
      "__________________________________________________________________________________________________\n",
      "conv2d_18 (Conv2D)              (None, 16, 16, 128)  24704       concatenate_3[0][0]              \n",
      "__________________________________________________________________________________________________\n",
      "activation_20 (Activation)      (None, 16, 16, 32)   0           conv2d_20[0][0]                  \n",
      "__________________________________________________________________________________________________\n",
      "activation_18 (Activation)      (None, 16, 16, 128)  0           conv2d_18[0][0]                  \n",
      "__________________________________________________________________________________________________\n",
      "activation_22 (Activation)      (None, 16, 16, 32)   0           activation_20[0][0]              \n",
      "__________________________________________________________________________________________________\n",
      "concatenate_4 (Concatenate)     (None, 16, 16, 192)  0           activation_18[0][0]              \n",
      "                                                                 activation_20[0][0]              \n",
      "                                                                 activation_22[0][0]              \n",
      "__________________________________________________________________________________________________\n",
      "conv2d_25 (Conv2D)              (None, 16, 16, 32)   55328       concatenate_4[0][0]              \n",
      "__________________________________________________________________________________________________\n",
      "conv2d_23 (Conv2D)              (None, 16, 16, 128)  24704       concatenate_4[0][0]              \n",
      "__________________________________________________________________________________________________\n",
      "activation_25 (Activation)      (None, 16, 16, 32)   0           conv2d_25[0][0]                  \n",
      "__________________________________________________________________________________________________\n",
      "activation_23 (Activation)      (None, 16, 16, 128)  0           conv2d_23[0][0]                  \n",
      "__________________________________________________________________________________________________\n",
      "activation_27 (Activation)      (None, 16, 16, 32)   0           activation_25[0][0]              \n",
      "__________________________________________________________________________________________________\n",
      "concatenate_5 (Concatenate)     (None, 16, 16, 192)  0           activation_23[0][0]              \n",
      "                                                                 activation_25[0][0]              \n",
      "                                                                 activation_27[0][0]              \n",
      "__________________________________________________________________________________________________\n",
      "conv2d_30 (Conv2D)              (None, 16, 16, 32)   55328       concatenate_5[0][0]              \n",
      "__________________________________________________________________________________________________\n",
      "conv2d_28 (Conv2D)              (None, 16, 16, 128)  24704       concatenate_5[0][0]              \n",
      "__________________________________________________________________________________________________\n",
      "activation_30 (Activation)      (None, 16, 16, 32)   0           conv2d_30[0][0]                  \n",
      "__________________________________________________________________________________________________\n",
      "activation_28 (Activation)      (None, 16, 16, 128)  0           conv2d_28[0][0]                  \n",
      "__________________________________________________________________________________________________\n",
      "activation_32 (Activation)      (None, 16, 16, 32)   0           activation_30[0][0]              \n",
      "__________________________________________________________________________________________________\n",
      "concatenate_6 (Concatenate)     (None, 16, 16, 192)  0           activation_28[0][0]              \n",
      "                                                                 activation_30[0][0]              \n",
      "                                                                 activation_32[0][0]              \n",
      "__________________________________________________________________________________________________\n",
      "average_pooling2d_1 (AveragePoo (None, 8, 8, 192)    0           concatenate_6[0][0]              \n",
      "__________________________________________________________________________________________________\n",
      "flatten_1 (Flatten)             (None, 12288)        0           average_pooling2d_1[0][0]        \n",
      "__________________________________________________________________________________________________\n",
      "dense_1 (Dense)                 (None, 256)          3145984     flatten_1[0][0]                  \n",
      "__________________________________________________________________________________________________\n",
      "dense_2 (Dense)                 (None, 10)           2570        dense_1[0][0]                    \n",
      "==================================================================================================\n",
      "Total params: 3,563,210\n",
      "Trainable params: 3,563,146\n",
      "Non-trainable params: 64\n",
      "__________________________________________________________________________________________________\n"
     ]
    }
   ],
   "source": [
    "model = Model(main_input, L2)\n",
    "model.summary()"
   ]
  },
  {
   "cell_type": "code",
   "execution_count": 10,
   "metadata": {},
   "outputs": [],
   "source": [
    "base_path = '/floyd/input/flickrdataset'\n",
    "train_dir = base_path+'/train/'\n",
    "validation_dir = base_path+'/validation/'\n",
    "test_dir = base_path+'/test/'"
   ]
  },
  {
   "cell_type": "code",
   "execution_count": 11,
   "metadata": {},
   "outputs": [
    {
     "name": "stdout",
     "output_type": "stream",
     "text": [
      "Found 1000 images belonging to 10 classes.\n",
      "Found 200 images belonging to 10 classes.\n"
     ]
    }
   ],
   "source": [
    "#Preprocess data\n",
    "train_datagen = ImageDataGenerator(rescale=1./255, horizontal_flip=True)             \n",
    "test_datagen = ImageDataGenerator(rescale=1./255)              \n",
    "\n",
    "train_generator = train_datagen.flow_from_directory(\n",
    "        train_dir,\n",
    "        target_size=(32, 32), \n",
    "        batch_size=20, \n",
    "        class_mode='categorical')                                   \n",
    "\n",
    "validation_generator = test_datagen.flow_from_directory(\n",
    "        validation_dir,\n",
    "        target_size=(32, 32),\n",
    "        batch_size=20,\n",
    "        class_mode='categorical')"
   ]
  },
  {
   "cell_type": "code",
   "execution_count": 12,
   "metadata": {},
   "outputs": [
    {
     "name": "stdout",
     "output_type": "stream",
     "text": [
      "WARNING:tensorflow:Variable *= will be deprecated. Use variable.assign_mul if you want assignment to the variable value or 'x = x * y' if you want a new python Tensor object.\n",
      "Epoch 1/10\n",
      "100/100 [==============================] - 5s 53ms/step - loss: 2.1475 - acc: 0.2100 - val_loss: 1.9944 - val_acc: 0.3300\n",
      "Epoch 2/10\n",
      "100/100 [==============================] - 4s 37ms/step - loss: 1.7090 - acc: 0.4065 - val_loss: 1.9773 - val_acc: 0.3500\n",
      "Epoch 3/10\n",
      "100/100 [==============================] - 4s 37ms/step - loss: 1.4461 - acc: 0.5070 - val_loss: 1.7846 - val_acc: 0.4450\n",
      "Epoch 4/10\n",
      "100/100 [==============================] - 4s 36ms/step - loss: 1.3333 - acc: 0.5295 - val_loss: 1.7733 - val_acc: 0.4200\n",
      "Epoch 5/10\n",
      "100/100 [==============================] - 4s 37ms/step - loss: 1.2130 - acc: 0.5825 - val_loss: 2.0999 - val_acc: 0.4150\n",
      "Epoch 6/10\n",
      "100/100 [==============================] - 4s 37ms/step - loss: 1.1083 - acc: 0.6305 - val_loss: 1.9717 - val_acc: 0.4400\n",
      "Epoch 7/10\n",
      "100/100 [==============================] - 4s 37ms/step - loss: 0.9980 - acc: 0.6710 - val_loss: 2.2042 - val_acc: 0.4050\n",
      "Epoch 8/10\n",
      "100/100 [==============================] - 4s 37ms/step - loss: 0.8966 - acc: 0.7000 - val_loss: 2.1596 - val_acc: 0.3900\n",
      "Epoch 9/10\n",
      "100/100 [==============================] - 4s 36ms/step - loss: 0.7789 - acc: 0.7415 - val_loss: 2.2080 - val_acc: 0.3950\n",
      "Epoch 10/10\n",
      "100/100 [==============================] - 4s 37ms/step - loss: 0.6974 - acc: 0.7690 - val_loss: 2.3722 - val_acc: 0.4200\n"
     ]
    }
   ],
   "source": [
    "sgd = optimizers.SGD(lr=0.001, decay=5e-4, momentum=0.9, nesterov=True)\n",
    "#model.compile(optimizer=optimizers.SGD(lr=1e-4),\n",
    "model.compile(optimizer=sgd,\n",
    "              loss='categorical_crossentropy',\n",
    "              metrics=['accuracy'])\n",
    "history = model.fit_generator(\n",
    "      train_generator,\n",
    "      steps_per_epoch=100,\n",
    "      epochs=epochs,\n",
    "      validation_data=validation_generator,\n",
    "      validation_steps=50)"
   ]
  },
  {
   "cell_type": "code",
   "execution_count": 13,
   "metadata": {},
   "outputs": [
    {
     "name": "stdout",
     "output_type": "stream",
     "text": [
      "[0.21000000197440385, 0.40650000140070913, 0.5070000004768371, 0.5294999989867211, 0.5825000020861626, 0.6305000001192093, 0.6709999990463257, 0.6999999985098839, 0.7415000027418137, 0.7690000027418137]\n"
     ]
    },
    {
     "data": {
      "image/png": "[encoded data removed]",
      "text/plain": [
       "<Figure size 432x288 with 1 Axes>"
      ]
     },
     "metadata": {},
     "output_type": "display_data"
    },
    {
     "data": {
      "image/png": "[encoded data removed]",
      "text/plain": [
       "<Figure size 432x288 with 1 Axes>"
      ]
     },
     "metadata": {},
     "output_type": "display_data"
    }
   ],
   "source": [
    "acc = history.history['acc']\n",
    "val_acc = history.history['val_acc']\n",
    "loss = history.history['loss']\n",
    "val_loss = history.history['val_loss']\n",
    "print(acc)\n",
    "epochs = range(1, len(acc) + 1)\n",
    "\n",
    "plt.plot(epochs, acc, 'bo', label='Training acc')\n",
    "plt.plot(epochs, val_acc, 'b', label='Validation acc')\n",
    "plt.title('Training and validation accuracy')\n",
    "plt.legend()\n",
    "\n",
    "plt.figure()\n",
    "\n",
    "plt.plot(epochs, loss, 'bo', label='Training loss')\n",
    "plt.plot(epochs, val_loss, 'b', label='Validation loss')\n",
    "plt.title('Training and validation loss')\n",
    "plt.legend()\n",
    "\n",
    "plt.show()"
   ]
  },
  {
   "cell_type": "code",
   "execution_count": 14,
   "metadata": {},
   "outputs": [
    {
     "name": "stdout",
     "output_type": "stream",
     "text": [
      "Found 200 images belonging to 10 classes.\n"
     ]
    }
   ],
   "source": [
    "test_generator = test_datagen.flow_from_directory(\n",
    "        test_dir,\n",
    "        target_size=(32, 32),\n",
    "        batch_size=20,\n",
    "        class_mode='categorical')\n",
    "test_loss, test_acc = model.evaluate_generator(test_generator)"
   ]
  },
  {
   "cell_type": "code",
   "execution_count": 15,
   "metadata": {},
   "outputs": [
    {
     "name": "stdout",
     "output_type": "stream",
     "text": [
      "2.413964641094208 0.45000000298023224\n"
     ]
    }
   ],
   "source": [
    "print(test_loss, test_acc)"
   ]
  },
  {
   "cell_type": "code",
   "execution_count": null,
   "metadata": {},
   "outputs": [],
   "source": []
  }
 ],
 "metadata": {
  "kernelspec": {
   "display_name": "Python 3",
   "language": "python",
   "name": "python3"
  },
  "language_info": {
   "codemirror_mode": {
    "name": "ipython",
    "version": 3
   },
   "file_extension": ".py",
   "mimetype": "text/x-python",
   "name": "python",
   "nbconvert_exporter": "python",
   "pygments_lexer": "ipython3",
   "version": "3.6.5"
  }
 },
 "nbformat": 4,
 "nbformat_minor": 2
}
