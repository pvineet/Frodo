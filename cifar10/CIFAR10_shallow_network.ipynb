{
 "cells": [
  {
   "cell_type": "markdown",
   "metadata": {},
   "source": [
    "### Training shallow network on CIFAR10\n",
    "The code below implements a shallow network to classify CIFAR10. This network has an input layer and an output layer. This network is shallow because there are no hidden layers."
   ]
  },
  {
   "cell_type": "code",
   "execution_count": 24,
   "metadata": {},
   "outputs": [],
   "source": [
    "# Implementing a Sequential model here by adding layers\n",
    "from keras.models import Sequential\n",
    "from keras.utils import to_categorical \n",
    "from keras import optimizers \n",
    "from keras import layers \n",
    "from keras.datasets import cifar10 \n",
    "from keras.engine import Input\n",
    "from keras.layers.core import Dense, Dropout, Activation, Flatten"
   ]
  },
  {
   "cell_type": "code",
   "execution_count": 25,
   "metadata": {},
   "outputs": [],
   "source": [
    "#Load CIFAR10 train and test data\n",
    "(x_train, y_train), (x_test, y_test) = cifar10.load_data()"
   ]
  },
  {
   "cell_type": "code",
   "execution_count": 26,
   "metadata": {},
   "outputs": [
    {
     "name": "stdout",
     "output_type": "stream",
     "text": [
      "_________________________________________________________________\n",
      "Layer (type)                 Output Shape              Param #   \n",
      "=================================================================\n",
      "reshape_5 (Reshape)          (None, 3072)              0         \n",
      "_________________________________________________________________\n",
      "dense_5 (Dense)              (None, 10)                30730     \n",
      "=================================================================\n",
      "Total params: 30,730\n",
      "Trainable params: 30,730\n",
      "Non-trainable params: 0\n",
      "_________________________________________________________________\n"
     ]
    }
   ],
   "source": [
    "#Build the shallow network and display the model/network summary\n",
    "model = Sequential()\n",
    "# use reshape to flatten the 32x32x3 image\n",
    "model.add(layers.Reshape((3072,), input_shape=(32, 32, 3)))\n",
    "model.add(Dense(10, activation='softmax'))\n",
    "model.summary()"
   ]
  },
  {
   "cell_type": "code",
   "execution_count": 27,
   "metadata": {},
   "outputs": [
    {
     "name": "stdout",
     "output_type": "stream",
     "text": [
      "Epoch 1/25\n",
      "50000/50000 [==============================] - 5s 97us/step - loss: 2.0092 - acc: 0.2835\n",
      "Epoch 2/25\n",
      "50000/50000 [==============================] - 4s 84us/step - loss: 1.8659 - acc: 0.3513\n",
      "Epoch 3/25\n",
      "50000/50000 [==============================] - 4s 75us/step - loss: 1.8281 - acc: 0.3677\n",
      "Epoch 4/25\n",
      "50000/50000 [==============================] - 4s 79us/step - loss: 1.8070 - acc: 0.3750\n",
      "Epoch 5/25\n",
      "50000/50000 [==============================] - 4s 87us/step - loss: 1.7928 - acc: 0.3790\n",
      "Epoch 6/25\n",
      "50000/50000 [==============================] - 5s 92us/step - loss: 1.7810 - acc: 0.3878\n",
      "Epoch 7/25\n",
      "50000/50000 [==============================] - 5s 93us/step - loss: 1.7720 - acc: 0.3906\n",
      "Epoch 8/25\n",
      "50000/50000 [==============================] - 4s 87us/step - loss: 1.7643 - acc: 0.3927: 0s - loss: 1.7640 - acc\n",
      "Epoch 9/25\n",
      "50000/50000 [==============================] - 6s 125us/step - loss: 1.7575 - acc: 0.3965\n",
      "Epoch 10/25\n",
      "50000/50000 [==============================] - 6s 118us/step - loss: 1.7517 - acc: 0.3991\n",
      "Epoch 11/25\n",
      "50000/50000 [==============================] - 8s 169us/step - loss: 1.7472 - acc: 0.4008\n",
      "Epoch 12/25\n",
      "50000/50000 [==============================] - 10s 198us/step - loss: 1.7430 - acc: 0.4013\n",
      "Epoch 13/25\n",
      "50000/50000 [==============================] - 11s 223us/step - loss: 1.7379 - acc: 0.4030\n",
      "Epoch 14/25\n",
      "50000/50000 [==============================] - 11s 214us/step - loss: 1.7346 - acc: 0.40550s - loss: 1.7347 - acc: 0\n",
      "Epoch 15/25\n",
      "50000/50000 [==============================] - 5s 101us/step - loss: 1.7316 - acc: 0.4052\n",
      "Epoch 16/25\n",
      "50000/50000 [==============================] - 5s 105us/step - loss: 1.7281 - acc: 0.4092\n",
      "Epoch 17/25\n",
      "50000/50000 [==============================] - 5s 93us/step - loss: 1.7249 - acc: 0.4094\n",
      "Epoch 18/25\n",
      "50000/50000 [==============================] - 4s 79us/step - loss: 1.7223 - acc: 0.4101\n",
      "Epoch 19/25\n",
      "50000/50000 [==============================] - 4s 80us/step - loss: 1.7201 - acc: 0.4111\n",
      "Epoch 20/25\n",
      "50000/50000 [==============================] - 4s 89us/step - loss: 1.7175 - acc: 0.4133\n",
      "Epoch 21/25\n",
      "50000/50000 [==============================] - 4s 90us/step - loss: 1.7159 - acc: 0.4138\n",
      "Epoch 22/25\n",
      "50000/50000 [==============================] - 5s 107us/step - loss: 1.7138 - acc: 0.4156\n",
      "Epoch 23/25\n",
      "50000/50000 [==============================] - 8s 169us/step - loss: 1.7115 - acc: 0.4154\n",
      "Epoch 24/25\n",
      "50000/50000 [==============================] - 7s 144us/step - loss: 1.7107 - acc: 0.4177\n",
      "Epoch 25/25\n",
      "50000/50000 [==============================] - 7s 139us/step - loss: 1.7084 - acc: 0.4184 1s - los\n"
     ]
    }
   ],
   "source": [
    "#Scale pixel values (0 to 255) to (0 to 1)\n",
    "x_train = x_train.astype('float32')/255 \n",
    "x_test = x_test.astype('float32')/255 \n",
    "# Convert integer labels to logits or one hot bit\n",
    "y_train = to_categorical(y_train) \n",
    "y_test = to_categorical(y_test) \n",
    "#instantiate a Stochastic Gradient Descent optomizer\n",
    "sgd = optimizers.SGD(lr=0.001, decay=5e-5, momentum=0.9, nesterov=True) \n",
    "# Compile the model\n",
    "model.compile(optimizer=sgd, \n",
    "              loss='categorical_crossentropy', \n",
    "              metrics=['accuracy'])\n",
    "#Train the model\n",
    "history = model.fit(x_train, y_train, epochs=25, shuffle='batch', batch_size=128) "
   ]
  },
  {
   "cell_type": "code",
   "execution_count": 28,
   "metadata": {
    "scrolled": true
   },
   "outputs": [
    {
     "name": "stdout",
     "output_type": "stream",
     "text": [
      "10000/10000 [==============================] - 3s 326us/step\n"
     ]
    }
   ],
   "source": [
    "# Evaluate the model on test set\n",
    "test_loss, test_acc = model.evaluate(x_test, y_test) "
   ]
  },
  {
   "cell_type": "code",
   "execution_count": 29,
   "metadata": {},
   "outputs": [
    {
     "name": "stdout",
     "output_type": "stream",
     "text": [
      "0.4021\n"
     ]
    }
   ],
   "source": [
    "# Check the accuracy achieved on test set\n",
    "print(test_acc)"
   ]
  },
  {
   "cell_type": "code",
   "execution_count": null,
   "metadata": {},
   "outputs": [],
   "source": []
  }
 ],
 "metadata": {
  "kernelspec": {
   "display_name": "Python 3",
   "language": "python",
   "name": "python3"
  },
  "language_info": {
   "codemirror_mode": {
    "name": "ipython",
    "version": 3
   },
   "file_extension": ".py",
   "mimetype": "text/x-python",
   "name": "python",
   "nbconvert_exporter": "python",
   "pygments_lexer": "ipython3",
   "version": "3.6.5"
  }
 },
 "nbformat": 4,
 "nbformat_minor": 2
}
