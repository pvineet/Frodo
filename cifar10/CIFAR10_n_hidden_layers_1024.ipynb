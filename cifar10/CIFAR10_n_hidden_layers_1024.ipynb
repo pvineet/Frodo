{
 "cells": [
  {
   "cell_type": "markdown",
   "metadata": {},
   "source": [
    "### Training shallow network on CIFAR10\n",
    "\n",
    "The code below implements a neural network witha hidden layer of size 4096 to classify CIFAR10. \n",
    "\n",
    "- Input layer = 32x32x3 = 3072\n",
    "- Hidden layer size = 1024\n",
    "- Output layer = 10 classes"
   ]
  },
  {
   "cell_type": "code",
   "execution_count": 11,
   "metadata": {},
   "outputs": [],
   "source": [
    "from keras.models import Sequential, Model\n",
    "from keras.utils import to_categorical \n",
    "from keras import optimizers \n",
    "from keras import layers \n",
    "from keras.datasets import cifar10 \n",
    "import numpy as np \n",
    "from keras.engine import Input\n",
    "from keras.layers.core import Dense, Dropout, Activation, Flatten\n",
    "from keras import backend as K\n",
    "import matplotlib.pyplot as plt"
   ]
  },
  {
   "cell_type": "code",
   "execution_count": 12,
   "metadata": {},
   "outputs": [],
   "source": [
    "# Load Cifar10 dataset\n",
    "(x_train, y_train), (x_test, y_test) = cifar10.load_data()\n",
    "# Arrays to store training accuracy and loss\n",
    "train_acc = []\n",
    "train_loss = []\n",
    "# Arrays to store test accuracy and loss\n",
    "test_acc = []\n",
    "test_loss = []\n",
    "params = []\n",
    "epochs = 25\n",
    "n = 5"
   ]
  },
  {
   "cell_type": "code",
   "execution_count": 13,
   "metadata": {},
   "outputs": [],
   "source": [
    "def make_model(num_hidden_layers, hidden_layer_size = 1024):\n",
    "    model = Sequential()\n",
    "    model.add(layers.Reshape((3072,), input_shape=(32, 32, 3)))\n",
    "    for i in range(num_hidden_layers):\n",
    "        model.add(Dense(hidden_layer_size, activation='relu'))\n",
    "    model.add(Dense(10, activation='softmax'))\n",
    "    model.summary()\n",
    "    return model"
   ]
  },
  {
   "cell_type": "markdown",
   "metadata": {},
   "source": [
    "Total number of trainable parameters has increased to 12,627,978 from 30,730 as result of adding a Dense/Fully connected hidden layer"
   ]
  },
  {
   "cell_type": "code",
   "execution_count": 14,
   "metadata": {},
   "outputs": [
    {
     "name": "stdout",
     "output_type": "stream",
     "text": [
      "_________________________________________________________________\n",
      "Layer (type)                 Output Shape              Param #   \n",
      "=================================================================\n",
      "reshape_6 (Reshape)          (None, 3072)              0         \n",
      "_________________________________________________________________\n",
      "dense_16 (Dense)             (None, 10)                30730     \n",
      "=================================================================\n",
      "Total params: 30,730\n",
      "Trainable params: 30,730\n",
      "Non-trainable params: 0\n",
      "_________________________________________________________________\n",
      "Epoch 1/25\n",
      "50000/50000 [==============================] - 4s 77us/step - loss: 1.9446 - acc: 0.3144\n",
      "Epoch 2/25\n",
      "50000/50000 [==============================] - 4s 85us/step - loss: 1.8258 - acc: 0.3647\n",
      "Epoch 3/25\n",
      "50000/50000 [==============================] - 3s 70us/step - loss: 1.7950 - acc: 0.3767\n",
      "Epoch 4/25\n",
      "50000/50000 [==============================] - 3s 65us/step - loss: 1.7768 - acc: 0.3848\n",
      "Epoch 5/25\n",
      "50000/50000 [==============================] - 3s 66us/step - loss: 1.7628 - acc: 0.3914\n",
      "Epoch 6/25\n",
      "50000/50000 [==============================] - 4s 71us/step - loss: 1.7537 - acc: 0.3971\n",
      "Epoch 7/25\n",
      "50000/50000 [==============================] - 3s 67us/step - loss: 1.7455 - acc: 0.3991\n",
      "Epoch 8/25\n",
      "50000/50000 [==============================] - 3s 68us/step - loss: 1.7375 - acc: 0.4023\n",
      "Epoch 9/25\n",
      "50000/50000 [==============================] - 4s 71us/step - loss: 1.7321 - acc: 0.4052\n",
      "Epoch 10/25\n",
      "50000/50000 [==============================] - 3s 69us/step - loss: 1.7266 - acc: 0.4074\n",
      "Epoch 11/25\n",
      "50000/50000 [==============================] - 3s 69us/step - loss: 1.7228 - acc: 0.4085\n",
      "Epoch 12/25\n",
      "50000/50000 [==============================] - 3s 68us/step - loss: 1.7186 - acc: 0.4110\n",
      "Epoch 13/25\n",
      "50000/50000 [==============================] - 3s 70us/step - loss: 1.7142 - acc: 0.4144\n",
      "Epoch 14/25\n",
      "50000/50000 [==============================] - 4s 72us/step - loss: 1.7109 - acc: 0.4134\n",
      "Epoch 15/25\n",
      "50000/50000 [==============================] - 4s 71us/step - loss: 1.7090 - acc: 0.4147\n",
      "Epoch 16/25\n",
      "50000/50000 [==============================] - 3s 70us/step - loss: 1.7063 - acc: 0.4160\n",
      "Epoch 17/25\n",
      "50000/50000 [==============================] - 4s 79us/step - loss: 1.7032 - acc: 0.4186\n",
      "Epoch 18/25\n",
      "50000/50000 [==============================] - 4s 70us/step - loss: 1.7010 - acc: 0.4190\n",
      "Epoch 19/25\n",
      "50000/50000 [==============================] - 4s 70us/step - loss: 1.6986 - acc: 0.4197\n",
      "Epoch 20/25\n",
      "50000/50000 [==============================] - 4s 76us/step - loss: 1.6964 - acc: 0.4204\n",
      "Epoch 21/25\n",
      "50000/50000 [==============================] - 4s 73us/step - loss: 1.6942 - acc: 0.4217\n",
      "Epoch 22/25\n",
      "50000/50000 [==============================] - 4s 74us/step - loss: 1.6931 - acc: 0.4217\n",
      "Epoch 23/25\n",
      "50000/50000 [==============================] - 4s 76us/step - loss: 1.6917 - acc: 0.4234\n",
      "Epoch 24/25\n",
      "50000/50000 [==============================] - 4s 74us/step - loss: 1.6901 - acc: 0.4225\n",
      "Epoch 25/25\n",
      "50000/50000 [==============================] - 4s 79us/step - loss: 1.6883 - acc: 0.4236\n",
      "10000/10000 [==============================] - 1s 72us/step\n",
      "_________________________________________________________________\n",
      "Layer (type)                 Output Shape              Param #   \n",
      "=================================================================\n",
      "reshape_7 (Reshape)          (None, 3072)              0         \n",
      "_________________________________________________________________\n",
      "dense_17 (Dense)             (None, 1024)              3146752   \n",
      "_________________________________________________________________\n",
      "dense_18 (Dense)             (None, 10)                10250     \n",
      "=================================================================\n",
      "Total params: 3,157,002\n",
      "Trainable params: 3,157,002\n",
      "Non-trainable params: 0\n",
      "_________________________________________________________________\n",
      "Epoch 1/25\n",
      "50000/50000 [==============================] - 47s 940us/step - loss: 1.9399 - acc: 0.3180\n",
      "Epoch 2/25\n",
      "50000/50000 [==============================] - 45s 903us/step - loss: 1.7875 - acc: 0.3813\n",
      "Epoch 3/25\n",
      "50000/50000 [==============================] - 45s 903us/step - loss: 1.7295 - acc: 0.4026\n",
      "Epoch 4/25\n",
      "50000/50000 [==============================] - 48s 960us/step - loss: 1.6892 - acc: 0.4152\n",
      "Epoch 5/25\n",
      "50000/50000 [==============================] - 58s 1ms/step - loss: 1.6558 - acc: 0.4287\n",
      "Epoch 6/25\n",
      "50000/50000 [==============================] - 54s 1ms/step - loss: 1.6277 - acc: 0.4393\n",
      "Epoch 7/25\n",
      "50000/50000 [==============================] - 59s 1ms/step - loss: 1.6028 - acc: 0.4477\n",
      "Epoch 8/25\n",
      "50000/50000 [==============================] - 56s 1ms/step - loss: 1.5824 - acc: 0.4537\n",
      "Epoch 9/25\n",
      "50000/50000 [==============================] - 49s 983us/step - loss: 1.5629 - acc: 0.4637\n",
      "Epoch 10/25\n",
      "50000/50000 [==============================] - 50s 997us/step - loss: 1.5463 - acc: 0.4666\n",
      "Epoch 11/25\n",
      "50000/50000 [==============================] - 47s 933us/step - loss: 1.5309 - acc: 0.4717\n",
      "Epoch 12/25\n",
      "50000/50000 [==============================] - 40s 802us/step - loss: 1.5168 - acc: 0.4771\n",
      "Epoch 13/25\n",
      "50000/50000 [==============================] - 29s 583us/step - loss: 1.5036 - acc: 0.4814\n",
      "Epoch 14/25\n",
      "50000/50000 [==============================] - 29s 574us/step - loss: 1.4910 - acc: 0.4876\n",
      "Epoch 15/25\n",
      "50000/50000 [==============================] - 29s 572us/step - loss: 1.4788 - acc: 0.4914\n",
      "Epoch 16/25\n",
      "50000/50000 [==============================] - 29s 578us/step - loss: 1.4678 - acc: 0.4937\n",
      "Epoch 17/25\n",
      "50000/50000 [==============================] - 29s 578us/step - loss: 1.4575 - acc: 0.4988\n",
      "Epoch 18/25\n",
      "50000/50000 [==============================] - 29s 582us/step - loss: 1.4467 - acc: 0.5019\n",
      "Epoch 19/25\n",
      "50000/50000 [==============================] - 28s 564us/step - loss: 1.4371 - acc: 0.5069\n",
      "Epoch 20/25\n",
      "50000/50000 [==============================] - 29s 574us/step - loss: 1.4278 - acc: 0.5098\n",
      "Epoch 21/25\n",
      "50000/50000 [==============================] - 29s 573us/step - loss: 1.4193 - acc: 0.5144\n",
      "Epoch 22/25\n",
      "50000/50000 [==============================] - 30s 591us/step - loss: 1.4095 - acc: 0.5184\n",
      "Epoch 23/25\n",
      "50000/50000 [==============================] - 29s 577us/step - loss: 1.4018 - acc: 0.5201\n",
      "Epoch 24/25\n",
      "50000/50000 [==============================] - 28s 569us/step - loss: 1.3937 - acc: 0.5215\n",
      "Epoch 25/25\n",
      "50000/50000 [==============================] - 31s 625us/step - loss: 1.3855 - acc: 0.5252\n",
      "10000/10000 [==============================] - 2s 238us/step\n",
      "_________________________________________________________________\n",
      "Layer (type)                 Output Shape              Param #   \n",
      "=================================================================\n",
      "reshape_8 (Reshape)          (None, 3072)              0         \n",
      "_________________________________________________________________\n",
      "dense_19 (Dense)             (None, 1024)              3146752   \n",
      "_________________________________________________________________\n",
      "dense_20 (Dense)             (None, 1024)              1049600   \n",
      "_________________________________________________________________\n",
      "dense_21 (Dense)             (None, 10)                10250     \n",
      "=================================================================\n",
      "Total params: 4,206,602\n",
      "Trainable params: 4,206,602\n",
      "Non-trainable params: 0\n",
      "_________________________________________________________________\n",
      "Epoch 1/25\n",
      "50000/50000 [==============================] - 40s 794us/step - loss: 1.9842 - acc: 0.3028\n",
      "Epoch 2/25\n",
      "50000/50000 [==============================] - 37s 745us/step - loss: 1.8126 - acc: 0.3680\n",
      "Epoch 3/25\n",
      "50000/50000 [==============================] - 38s 751us/step - loss: 1.7486 - acc: 0.3907\n",
      "Epoch 4/25\n",
      "50000/50000 [==============================] - 39s 781us/step - loss: 1.7044 - acc: 0.4080\n",
      "Epoch 5/25\n",
      "50000/50000 [==============================] - 46s 913us/step - loss: 1.6680 - acc: 0.4195\n",
      "Epoch 6/25\n",
      "50000/50000 [==============================] - 52s 1ms/step - loss: 1.6371 - acc: 0.4321\n",
      "Epoch 7/25\n",
      "50000/50000 [==============================] - 40s 801us/step - loss: 1.6115 - acc: 0.4424\n",
      "Epoch 8/25\n"
     ]
    },
    {
     "name": "stdout",
     "output_type": "stream",
     "text": [
      "50000/50000 [==============================] - 38s 767us/step - loss: 1.5876 - acc: 0.4505\n",
      "Epoch 9/25\n",
      "50000/50000 [==============================] - 39s 777us/step - loss: 1.5668 - acc: 0.4573\n",
      "Epoch 10/25\n",
      "50000/50000 [==============================] - 40s 801us/step - loss: 1.5475 - acc: 0.4637\n",
      "Epoch 11/25\n",
      "50000/50000 [==============================] - 39s 778us/step - loss: 1.5312 - acc: 0.4694\n",
      "Epoch 12/25\n",
      "50000/50000 [==============================] - 43s 850us/step - loss: 1.5138 - acc: 0.4738\n",
      "Epoch 13/25\n",
      "50000/50000 [==============================] - 40s 806us/step - loss: 1.4986 - acc: 0.4795\n",
      "Epoch 14/25\n",
      "50000/50000 [==============================] - 41s 812us/step - loss: 1.4839 - acc: 0.4848\n",
      "Epoch 15/25\n",
      "50000/50000 [==============================] - 41s 823us/step - loss: 1.4717 - acc: 0.4911\n",
      "Epoch 16/25\n",
      "50000/50000 [==============================] - 43s 863us/step - loss: 1.4592 - acc: 0.4937\n",
      "Epoch 17/25\n",
      "50000/50000 [==============================] - 40s 796us/step - loss: 1.4465 - acc: 0.5008\n",
      "Epoch 18/25\n",
      "50000/50000 [==============================] - 40s 809us/step - loss: 1.4344 - acc: 0.5023\n",
      "Epoch 19/25\n",
      "50000/50000 [==============================] - 43s 867us/step - loss: 1.4223 - acc: 0.5081\n",
      "Epoch 20/25\n",
      "50000/50000 [==============================] - 40s 794us/step - loss: 1.4114 - acc: 0.5106\n",
      "Epoch 21/25\n",
      "50000/50000 [==============================] - 41s 812us/step - loss: 1.4009 - acc: 0.5148\n",
      "Epoch 22/25\n",
      "50000/50000 [==============================] - 40s 807us/step - loss: 1.3893 - acc: 0.5195\n",
      "Epoch 23/25\n",
      "50000/50000 [==============================] - 40s 792us/step - loss: 1.3790 - acc: 0.5223\n",
      "Epoch 24/25\n",
      "50000/50000 [==============================] - 40s 798us/step - loss: 1.3692 - acc: 0.5276\n",
      "Epoch 25/25\n",
      "50000/50000 [==============================] - 41s 813us/step - loss: 1.3595 - acc: 0.5295\n",
      "10000/10000 [==============================] - 3s 291us/step\n",
      "_________________________________________________________________\n",
      "Layer (type)                 Output Shape              Param #   \n",
      "=================================================================\n",
      "reshape_9 (Reshape)          (None, 3072)              0         \n",
      "_________________________________________________________________\n",
      "dense_22 (Dense)             (None, 1024)              3146752   \n",
      "_________________________________________________________________\n",
      "dense_23 (Dense)             (None, 1024)              1049600   \n",
      "_________________________________________________________________\n",
      "dense_24 (Dense)             (None, 1024)              1049600   \n",
      "_________________________________________________________________\n",
      "dense_25 (Dense)             (None, 10)                10250     \n",
      "=================================================================\n",
      "Total params: 5,256,202\n",
      "Trainable params: 5,256,202\n",
      "Non-trainable params: 0\n",
      "_________________________________________________________________\n",
      "Epoch 1/25\n",
      "50000/50000 [==============================] - 52s 1ms/step - loss: 2.0537 - acc: 0.2808\n",
      "Epoch 2/25\n",
      "50000/50000 [==============================] - 52s 1ms/step - loss: 1.8583 - acc: 0.3529\n",
      "Epoch 3/25\n",
      "50000/50000 [==============================] - 50s 997us/step - loss: 1.7872 - acc: 0.3740\n",
      "Epoch 4/25\n",
      "50000/50000 [==============================] - 51s 1ms/step - loss: 1.7381 - acc: 0.3929\n",
      "Epoch 5/25\n",
      "50000/50000 [==============================] - 51s 1ms/step - loss: 1.7014 - acc: 0.4072\n",
      "Epoch 6/25\n",
      "50000/50000 [==============================] - 56s 1ms/step - loss: 1.6703 - acc: 0.4165\n",
      "Epoch 7/25\n",
      "50000/50000 [==============================] - 52s 1ms/step - loss: 1.6424 - acc: 0.4265\n",
      "Epoch 8/25\n",
      "50000/50000 [==============================] - 50s 991us/step - loss: 1.6165 - acc: 0.4370\n",
      "Epoch 9/25\n",
      "50000/50000 [==============================] - 51s 1ms/step - loss: 1.5945 - acc: 0.4428\n",
      "Epoch 10/25\n",
      "50000/50000 [==============================] - 51s 1ms/step - loss: 1.5725 - acc: 0.4519\n",
      "Epoch 11/25\n",
      "50000/50000 [==============================] - 51s 1ms/step - loss: 1.5530 - acc: 0.4562\n",
      "Epoch 12/25\n",
      "50000/50000 [==============================] - 50s 998us/step - loss: 1.5355 - acc: 0.4636\n",
      "Epoch 13/25\n",
      "50000/50000 [==============================] - 49s 980us/step - loss: 1.5197 - acc: 0.4669\n",
      "Epoch 14/25\n",
      "50000/50000 [==============================] - 50s 997us/step - loss: 1.5032 - acc: 0.4729\n",
      "Epoch 15/25\n",
      "50000/50000 [==============================] - 49s 984us/step - loss: 1.4886 - acc: 0.4796\n",
      "Epoch 16/25\n",
      "50000/50000 [==============================] - 50s 1ms/step - loss: 1.4740 - acc: 0.4858\n",
      "Epoch 17/25\n",
      "50000/50000 [==============================] - 49s 986us/step - loss: 1.4604 - acc: 0.4906\n",
      "Epoch 18/25\n",
      "50000/50000 [==============================] - 51s 1ms/step - loss: 1.4479 - acc: 0.4937\n",
      "Epoch 19/25\n",
      "50000/50000 [==============================] - 50s 997us/step - loss: 1.4354 - acc: 0.4982\n",
      "Epoch 20/25\n",
      "50000/50000 [==============================] - 50s 1ms/step - loss: 1.4223 - acc: 0.5029\n",
      "Epoch 21/25\n",
      "50000/50000 [==============================] - 50s 994us/step - loss: 1.4097 - acc: 0.5073\n",
      "Epoch 22/25\n",
      "50000/50000 [==============================] - 49s 976us/step - loss: 1.3995 - acc: 0.5104\n",
      "Epoch 23/25\n",
      "50000/50000 [==============================] - 49s 974us/step - loss: 1.3879 - acc: 0.5156\n",
      "Epoch 24/25\n",
      "50000/50000 [==============================] - 48s 963us/step - loss: 1.3770 - acc: 0.5188\n",
      "Epoch 25/25\n",
      "50000/50000 [==============================] - 49s 975us/step - loss: 1.3664 - acc: 0.5212\n",
      "10000/10000 [==============================] - 4s 369us/step\n",
      "_________________________________________________________________\n",
      "Layer (type)                 Output Shape              Param #   \n",
      "=================================================================\n",
      "reshape_10 (Reshape)         (None, 3072)              0         \n",
      "_________________________________________________________________\n",
      "dense_26 (Dense)             (None, 1024)              3146752   \n",
      "_________________________________________________________________\n",
      "dense_27 (Dense)             (None, 1024)              1049600   \n",
      "_________________________________________________________________\n",
      "dense_28 (Dense)             (None, 1024)              1049600   \n",
      "_________________________________________________________________\n",
      "dense_29 (Dense)             (None, 1024)              1049600   \n",
      "_________________________________________________________________\n",
      "dense_30 (Dense)             (None, 10)                10250     \n",
      "=================================================================\n",
      "Total params: 6,305,802\n",
      "Trainable params: 6,305,802\n",
      "Non-trainable params: 0\n",
      "_________________________________________________________________\n",
      "Epoch 1/25\n",
      "50000/50000 [==============================] - 59s 1ms/step - loss: 2.1103 - acc: 0.2641\n",
      "Epoch 2/25\n",
      "50000/50000 [==============================] - 58s 1ms/step - loss: 1.8985 - acc: 0.3369\n",
      "Epoch 3/25\n",
      "50000/50000 [==============================] - 58s 1ms/step - loss: 1.8168 - acc: 0.3642\n",
      "Epoch 4/25\n",
      "50000/50000 [==============================] - 60s 1ms/step - loss: 1.7654 - acc: 0.3813\n",
      "Epoch 5/25\n",
      "50000/50000 [==============================] - 59s 1ms/step - loss: 1.7243 - acc: 0.3972\n",
      "Epoch 6/25\n",
      "50000/50000 [==============================] - 59s 1ms/step - loss: 1.6909 - acc: 0.4075\n",
      "Epoch 7/25\n",
      "50000/50000 [==============================] - 58s 1ms/step - loss: 1.6619 - acc: 0.4184\n",
      "Epoch 8/25\n",
      "50000/50000 [==============================] - 60s 1ms/step - loss: 1.6357 - acc: 0.4270\n",
      "Epoch 9/25\n",
      "50000/50000 [==============================] - 59s 1ms/step - loss: 1.6126 - acc: 0.4352\n",
      "Epoch 10/25\n",
      "50000/50000 [==============================] - 59s 1ms/step - loss: 1.5907 - acc: 0.4416\n",
      "Epoch 11/25\n",
      "50000/50000 [==============================] - 59s 1ms/step - loss: 1.5718 - acc: 0.4497\n",
      "Epoch 12/25\n",
      "50000/50000 [==============================] - 59s 1ms/step - loss: 1.5528 - acc: 0.4547\n",
      "Epoch 13/25\n",
      "50000/50000 [==============================] - 58s 1ms/step - loss: 1.5362 - acc: 0.4608\n",
      "Epoch 14/25\n",
      "50000/50000 [==============================] - 59s 1ms/step - loss: 1.5204 - acc: 0.4672\n",
      "Epoch 15/25\n",
      "50000/50000 [==============================] - 59s 1ms/step - loss: 1.5056 - acc: 0.4709\n",
      "Epoch 16/25\n"
     ]
    },
    {
     "name": "stdout",
     "output_type": "stream",
     "text": [
      "50000/50000 [==============================] - 59s 1ms/step - loss: 1.4910 - acc: 0.4762\n",
      "Epoch 17/25\n",
      "50000/50000 [==============================] - 59s 1ms/step - loss: 1.4756 - acc: 0.4833\n",
      "Epoch 18/25\n",
      "50000/50000 [==============================] - 60s 1ms/step - loss: 1.4632 - acc: 0.4859\n",
      "Epoch 19/25\n",
      "50000/50000 [==============================] - 58s 1ms/step - loss: 1.4506 - acc: 0.4908\n",
      "Epoch 20/25\n",
      "50000/50000 [==============================] - 58s 1ms/step - loss: 1.4375 - acc: 0.4947\n",
      "Epoch 21/25\n",
      "50000/50000 [==============================] - 58s 1ms/step - loss: 1.4244 - acc: 0.4996\n",
      "Epoch 22/25\n",
      "50000/50000 [==============================] - 59s 1ms/step - loss: 1.4123 - acc: 0.5051\n",
      "Epoch 23/25\n",
      "50000/50000 [==============================] - 59s 1ms/step - loss: 1.4008 - acc: 0.5073\n",
      "Epoch 24/25\n",
      "50000/50000 [==============================] - 58s 1ms/step - loss: 1.3894 - acc: 0.5126\n",
      "Epoch 25/25\n",
      "50000/50000 [==============================] - 60s 1ms/step - loss: 1.3779 - acc: 0.5141\n",
      "10000/10000 [==============================] - 4s 367us/step\n"
     ]
    }
   ],
   "source": [
    "x_train = x_train.astype('float32')/255 \n",
    "x_test = x_test.astype('float32')/255 \n",
    "y_train = to_categorical(y_train) \n",
    "y_test = to_categorical(y_test) \n",
    "sgd = optimizers.SGD(lr=0.001, decay=5e-5, momentum=0.9, nesterov=True)\n",
    "for i in range(n):\n",
    "    model =  make_model(i)\n",
    "    #save parameters in the network\n",
    "    params.append(int(np.sum([K.count_params(p) for p in set(model.trainable_weights)])))\n",
    "    model.compile(optimizer=sgd, \n",
    "              loss='categorical_crossentropy', \n",
    "              metrics=['accuracy'])\n",
    "    history = model.fit(x_train, y_train, epochs=epochs, shuffle='batch', batch_size=64)\n",
    "    train_loss.append(history.history['loss'][-1])\n",
    "    train_acc.append(history.history['acc'][-1])\n",
    "    loss, acc = model.evaluate(x_test, y_test)\n",
    "    test_loss.append(loss)\n",
    "    test_acc.append(acc)"
   ]
  },
  {
   "cell_type": "code",
   "execution_count": 15,
   "metadata": {},
   "outputs": [
    {
     "name": "stdout",
     "output_type": "stream",
     "text": [
      "[30730, 3157002, 4206602, 5256202, 6305802]\n",
      "[0.42358, 0.52518, 0.52954, 0.52116, 0.51412]\n",
      "[1.688272847595215, 1.3854928829193116, 1.359546766204834, 1.3663580729675293, 1.377860910987854]\n",
      "[0.3995, 0.491, 0.4966, 0.4957, 0.4872]\n",
      "[1.724499193572998, 1.4513757482528686, 1.4248750221252442, 1.429769751548767, 1.4452525402069092]\n"
     ]
    }
   ],
   "source": [
    "print(params)\n",
    "print(train_acc)\n",
    "print(train_loss)\n",
    "print(test_acc)\n",
    "print(test_loss)"
   ]
  },
  {
   "cell_type": "code",
   "execution_count": 16,
   "metadata": {},
   "outputs": [
    {
     "data": {
      "text/plain": [
       "<matplotlib.legend.Legend at 0xb5d8db080>"
      ]
     },
     "execution_count": 16,
     "metadata": {},
     "output_type": "execute_result"
    },
    {
     "data": {
      "image/png": "[encoded data removed]",
      "text/plain": [
       "<Figure size 432x288 with 1 Axes>"
      ]
     },
     "metadata": {},
     "output_type": "display_data"
    }
   ],
   "source": [
    "plt.figure()\n",
    "plt.ylabel('Train Accuracy/Test Accuracy')\n",
    "plt.xlabel('# Hidden layers')\n",
    "plt.plot(range(n), train_acc, 'r')\n",
    "plt.plot(range(n), test_acc, 'b')\n",
    "plt.legend(['train_acc','test_acc'])"
   ]
  },
  {
   "cell_type": "code",
   "execution_count": 17,
   "metadata": {},
   "outputs": [
    {
     "data": {
      "text/plain": [
       "<matplotlib.legend.Legend at 0xb67edacc0>"
      ]
     },
     "execution_count": 17,
     "metadata": {},
     "output_type": "execute_result"
    },
    {
     "data": {
      "image/png": "[encoded data removed]",
      "text/plain": [
       "<Figure size 432x288 with 1 Axes>"
      ]
     },
     "metadata": {},
     "output_type": "display_data"
    }
   ],
   "source": [
    "plt.figure()\n",
    "plt.ylabel('Train loss/Test loss')\n",
    "plt.xlabel('# Hidden layers')\n",
    "plt.plot(range(n), train_loss, 'r--')\n",
    "plt.plot(range(n), test_loss, 'b--')\n",
    "plt.legend(['train_loss','test_loss'])"
   ]
  },
  {
   "cell_type": "code",
   "execution_count": 18,
   "metadata": {},
   "outputs": [
    {
     "data": {
      "text/plain": [
       "[<matplotlib.lines.Line2D at 0xb67e33d30>]"
      ]
     },
     "execution_count": 18,
     "metadata": {},
     "output_type": "execute_result"
    },
    {
     "data": {
      "image/png": "[encoded data removed]",
      "text/plain": [
       "<Figure size 432x288 with 1 Axes>"
      ]
     },
     "metadata": {},
     "output_type": "display_data"
    }
   ],
   "source": [
    "plt.figure()\n",
    "plt.ylabel('No. of Parameters')\n",
    "plt.xlabel('# Hidden layers')\n",
    "plt.plot(range(n), params, 'bo')"
   ]
  },
  {
   "cell_type": "code",
   "execution_count": 19,
   "metadata": {},
   "outputs": [
    {
     "name": "stdout",
     "output_type": "stream",
     "text": [
      "[30730, 3157002, 4206602, 5256202, 6305802]\n"
     ]
    }
   ],
   "source": [
    "print(params)"
   ]
  },
  {
   "cell_type": "code",
   "execution_count": null,
   "metadata": {},
   "outputs": [],
   "source": []
  }
 ],
 "metadata": {
  "kernelspec": {
   "display_name": "Python 3",
   "language": "python",
   "name": "python3"
  },
  "language_info": {
   "codemirror_mode": {
    "name": "ipython",
    "version": 3
   },
   "file_extension": ".py",
   "mimetype": "text/x-python",
   "name": "python",
   "nbconvert_exporter": "python",
   "pygments_lexer": "ipython3",
   "version": "3.6.5"
  }
 },
 "nbformat": 4,
 "nbformat_minor": 2
}
