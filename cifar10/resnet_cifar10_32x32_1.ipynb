{
 "cells": [
  {
   "cell_type": "code",
   "execution_count": 12,
   "metadata": {},
   "outputs": [],
   "source": [
    "from keras.datasets import cifar10\n",
    "from keras.utils import to_categorical\n",
    "from keras import layers\n",
    "from keras import models\n",
    "from keras.applications.resnet50 import ResNet50\n",
    "from keras.layers import Input, Conv2D, MaxPooling2D, Input, GlobalAveragePooling2D\n",
    "from keras.layers import Add, Flatten, AveragePooling2D, Dense\n",
    "from keras.models import Model\n",
    "from keras import optimizers \n",
    "import time\n",
    "\n",
    "def res_layer(input_layer, n=64):\n",
    "    L1 = Conv2D(n, (3, 3), padding='same', activation='relu')(input_layer)\n",
    "    L2 = Conv2D(n, (3, 3), padding='same', activation='relu')(L1)\n",
    "    L2 = Conv2D(n, (3, 3), padding='same', activation='relu')(L2)\n",
    "    L3 = Add()([L2, input_layer])\n",
    "    return L3"
   ]
  },
  {
   "cell_type": "code",
   "execution_count": 13,
   "metadata": {},
   "outputs": [],
   "source": [
    "main_input = Input(shape=(32,32,3))\n",
    "L1 = Conv2D(64, (7, 7), strides=(2,2), padding='same', activation='relu')(main_input)\n",
    "L2 = MaxPooling2D(pool_size=(3,3), strides=(2,2))(L1)\n",
    "\n",
    "L2 = res_layer(L2)\n",
    "L2 = res_layer(L2)\n",
    "L2 = res_layer(L2)\n",
    "\n",
    "L3 = AveragePooling2D()(L2)\n",
    "L3 = Flatten()(L3)\n",
    "L4 = Dense(256)(L3)\n",
    "L5 = Dense(10,activation='softmax')(L4)"
   ]
  },
  {
   "cell_type": "code",
   "execution_count": 14,
   "metadata": {},
   "outputs": [
    {
     "name": "stdout",
     "output_type": "stream",
     "text": [
      "__________________________________________________________________________________________________\n",
      "Layer (type)                    Output Shape         Param #     Connected to                     \n",
      "==================================================================================================\n",
      "input_4 (InputLayer)            (None, 32, 32, 3)    0                                            \n",
      "__________________________________________________________________________________________________\n",
      "conv2d_31 (Conv2D)              (None, 16, 16, 64)   9472        input_4[0][0]                    \n",
      "__________________________________________________________________________________________________\n",
      "max_pooling2d_4 (MaxPooling2D)  (None, 7, 7, 64)     0           conv2d_31[0][0]                  \n",
      "__________________________________________________________________________________________________\n",
      "conv2d_32 (Conv2D)              (None, 7, 7, 64)     36928       max_pooling2d_4[0][0]            \n",
      "__________________________________________________________________________________________________\n",
      "conv2d_33 (Conv2D)              (None, 7, 7, 64)     36928       conv2d_32[0][0]                  \n",
      "__________________________________________________________________________________________________\n",
      "conv2d_34 (Conv2D)              (None, 7, 7, 64)     36928       conv2d_33[0][0]                  \n",
      "__________________________________________________________________________________________________\n",
      "add_10 (Add)                    (None, 7, 7, 64)     0           conv2d_34[0][0]                  \n",
      "                                                                 max_pooling2d_4[0][0]            \n",
      "__________________________________________________________________________________________________\n",
      "conv2d_35 (Conv2D)              (None, 7, 7, 64)     36928       add_10[0][0]                     \n",
      "__________________________________________________________________________________________________\n",
      "conv2d_36 (Conv2D)              (None, 7, 7, 64)     36928       conv2d_35[0][0]                  \n",
      "__________________________________________________________________________________________________\n",
      "conv2d_37 (Conv2D)              (None, 7, 7, 64)     36928       conv2d_36[0][0]                  \n",
      "__________________________________________________________________________________________________\n",
      "add_11 (Add)                    (None, 7, 7, 64)     0           conv2d_37[0][0]                  \n",
      "                                                                 add_10[0][0]                     \n",
      "__________________________________________________________________________________________________\n",
      "conv2d_38 (Conv2D)              (None, 7, 7, 64)     36928       add_11[0][0]                     \n",
      "__________________________________________________________________________________________________\n",
      "conv2d_39 (Conv2D)              (None, 7, 7, 64)     36928       conv2d_38[0][0]                  \n",
      "__________________________________________________________________________________________________\n",
      "conv2d_40 (Conv2D)              (None, 7, 7, 64)     36928       conv2d_39[0][0]                  \n",
      "__________________________________________________________________________________________________\n",
      "add_12 (Add)                    (None, 7, 7, 64)     0           conv2d_40[0][0]                  \n",
      "                                                                 add_11[0][0]                     \n",
      "__________________________________________________________________________________________________\n",
      "average_pooling2d_1 (AveragePoo (None, 3, 3, 64)     0           add_12[0][0]                     \n",
      "__________________________________________________________________________________________________\n",
      "flatten_1 (Flatten)             (None, 576)          0           average_pooling2d_1[0][0]        \n",
      "__________________________________________________________________________________________________\n",
      "dense_7 (Dense)                 (None, 256)          147712      flatten_1[0][0]                  \n",
      "__________________________________________________________________________________________________\n",
      "dense_8 (Dense)                 (None, 10)           2570        dense_7[0][0]                    \n",
      "==================================================================================================\n",
      "Total params: 492,106\n",
      "Trainable params: 492,106\n",
      "Non-trainable params: 0\n",
      "__________________________________________________________________________________________________\n"
     ]
    }
   ],
   "source": [
    "model = Model(main_input, L5)\n",
    "model.summary()"
   ]
  },
  {
   "cell_type": "code",
   "execution_count": 15,
   "metadata": {},
   "outputs": [
    {
     "name": "stdout",
     "output_type": "stream",
     "text": [
      "Epoch 1/10\n",
      "50000/50000 [==============================] - 13s 262us/step - loss: 1.5770 - acc: 0.4280\n",
      "Epoch 2/10\n",
      "50000/50000 [==============================] - 13s 254us/step - loss: 1.2310 - acc: 0.5630\n",
      "Epoch 3/10\n",
      "50000/50000 [==============================] - 13s 255us/step - loss: 1.0676 - acc: 0.6223\n",
      "Epoch 4/10\n",
      "50000/50000 [==============================] - 13s 252us/step - loss: 0.9521 - acc: 0.6642\n",
      "Epoch 5/10\n",
      "50000/50000 [==============================] - 13s 256us/step - loss: 0.8656 - acc: 0.6955\n",
      "Epoch 6/10\n",
      "50000/50000 [==============================] - 13s 254us/step - loss: 0.7977 - acc: 0.7196\n",
      "Epoch 7/10\n",
      "50000/50000 [==============================] - 13s 255us/step - loss: 0.7375 - acc: 0.7404\n",
      "Epoch 8/10\n",
      "50000/50000 [==============================] - 13s 253us/step - loss: 0.6839 - acc: 0.7587\n",
      "Epoch 9/10\n",
      "50000/50000 [==============================] - 13s 254us/step - loss: 0.6384 - acc: 0.7777\n",
      "Epoch 10/10\n",
      "50000/50000 [==============================] - 13s 256us/step - loss: 0.5986 - acc: 0.7917\n"
     ]
    }
   ],
   "source": [
    "(x_train, y_train), (x_test, y_test) = cifar10.load_data() \n",
    "x_train = x_train.astype('float32')/255 \n",
    "x_test = x_test.astype('float32')/255 \n",
    "y_train = to_categorical(y_train) \n",
    "y_test = to_categorical(y_test) \n",
    "sgd = optimizers.SGD(lr=0.01, decay=5e-4, momentum=0.9, nesterov=True) \n",
    "start_time = time.time()\n",
    "model.compile(optimizer=sgd, \n",
    "              loss='categorical_crossentropy', \n",
    "              metrics=['accuracy']) \n",
    "end_time = time.time()\n",
    "history = model.fit(x_train, y_train, epochs=10, shuffle='batch', batch_size=64) \n",
    "f = open('log.txt','w') "
   ]
  },
  {
   "cell_type": "code",
   "execution_count": 16,
   "metadata": {},
   "outputs": [
    {
     "name": "stdout",
     "output_type": "stream",
     "text": [
      "10000/10000 [==============================] - 2s 160us/step\n",
      "0.8045161793708802 0.7298\n"
     ]
    }
   ],
   "source": [
    "test_loss, test_acc = model.evaluate(x_test, y_test) \n",
    "print(test_loss, test_acc)"
   ]
  },
  {
   "cell_type": "code",
   "execution_count": 17,
   "metadata": {},
   "outputs": [
    {
     "name": "stdout",
     "output_type": "stream",
     "text": [
      "0.023489713668823242\n"
     ]
    }
   ],
   "source": [
    "print(end_time-start_time)"
   ]
  },
  {
   "cell_type": "code",
   "execution_count": null,
   "metadata": {},
   "outputs": [],
   "source": []
  }
 ],
 "metadata": {
  "kernelspec": {
   "display_name": "Python 3",
   "language": "python",
   "name": "python3"
  },
  "language_info": {
   "codemirror_mode": {
    "name": "ipython",
    "version": 3
   },
   "file_extension": ".py",
   "mimetype": "text/x-python",
   "name": "python",
   "nbconvert_exporter": "python",
   "pygments_lexer": "ipython3",
   "version": "3.6.5"
  }
 },
 "nbformat": 4,
 "nbformat_minor": 2
}
